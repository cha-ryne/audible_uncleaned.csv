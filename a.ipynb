{
 "cells": [
  {
   "cell_type": "code",
   "execution_count": null,
   "id": "24b21bae",
   "metadata": {
    "vscode": {
     "languageId": "plaintext"
    }
   },
   "outputs": [],
   "source": [
    "!pip install pandas\n",
    "import pandas as pd\n",
    "\n",
    "# Replace 'your_file_name.csv' with the actual name of your CSV file\n",
    "# If the CSV is not in the same directory as your notebook,\n",
    "# you'll need to provide the full or relative path.\n",
    "df = pd.read_csv('audible_uncleaned.csv')\n",
    "\n",
    "# Display the first few rows of the DataFrame to confirm it loaded correctly\n",
    "print(df.head())"
   ]
  }
 ],
 "metadata": {
  "language_info": {
   "name": "python"
  }
 },
 "nbformat": 4,
 "nbformat_minor": 5
}
