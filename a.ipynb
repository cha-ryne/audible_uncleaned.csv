{
 "cells": [
  {
   "cell_type": "markdown",
   "id": "34a97219",
   "metadata": {},
   "source": [
    "### Install Necessary Libraries\n",
    "In this step, we are installing the required libraries for data manipulation, visualization, and cleaning:\n",
    "- **pandas**: For data manipulation and analysis\n",
    "- **numpy**: For numerical operations\n",
    "- **matplotlib**: For visualizations\n",
    "- **seaborn**: For statistical data visualization"
   ]
  },
  {
   "cell_type": "code",
   "execution_count": 23,
   "id": "07419f59",
   "metadata": {},
   "outputs": [
    {
     "name": "stdout",
     "output_type": "stream",
     "text": [
      "Requirement already satisfied: pandas in /home/codespace/.local/lib/python3.12/site-packages (2.2.3)\n",
      "Requirement already satisfied: numpy in /home/codespace/.local/lib/python3.12/site-packages (2.2.6)\n",
      "Requirement already satisfied: matplotlib in /home/codespace/.local/lib/python3.12/site-packages (3.10.3)\n",
      "Requirement already satisfied: seaborn in /home/codespace/.local/lib/python3.12/site-packages (0.13.2)\n",
      "Requirement already satisfied: python-dateutil>=2.8.2 in /home/codespace/.local/lib/python3.12/site-packages (from pandas) (2.9.0.post0)\n",
      "Requirement already satisfied: pytz>=2020.1 in /home/codespace/.local/lib/python3.12/site-packages (from pandas) (2025.2)\n",
      "Requirement already satisfied: tzdata>=2022.7 in /home/codespace/.local/lib/python3.12/site-packages (from pandas) (2025.2)\n",
      "Requirement already satisfied: contourpy>=1.0.1 in /home/codespace/.local/lib/python3.12/site-packages (from matplotlib) (1.3.2)\n",
      "Requirement already satisfied: cycler>=0.10 in /home/codespace/.local/lib/python3.12/site-packages (from matplotlib) (0.12.1)\n",
      "Requirement already satisfied: fonttools>=4.22.0 in /home/codespace/.local/lib/python3.12/site-packages (from matplotlib) (4.58.1)\n",
      "Requirement already satisfied: kiwisolver>=1.3.1 in /home/codespace/.local/lib/python3.12/site-packages (from matplotlib) (1.4.8)\n",
      "Requirement already satisfied: packaging>=20.0 in /home/codespace/.local/lib/python3.12/site-packages (from matplotlib) (25.0)\n",
      "Requirement already satisfied: pillow>=8 in /home/codespace/.local/lib/python3.12/site-packages (from matplotlib) (11.2.1)\n",
      "Requirement already satisfied: pyparsing>=2.3.1 in /home/codespace/.local/lib/python3.12/site-packages (from matplotlib) (3.2.3)\n",
      "Requirement already satisfied: six>=1.5 in /home/codespace/.local/lib/python3.12/site-packages (from python-dateutil>=2.8.2->pandas) (1.17.0)\n"
     ]
    }
   ],
   "source": [
    "!pip install pandas numpy matplotlib seaborn"
   ]
  },
  {
   "cell_type": "markdown",
   "id": "391fd454",
   "metadata": {},
   "source": [
    "### Import Required Libraries\n",
    "We import all necessary libraries for data manipulation, analysis, and visualization."
   ]
  },
  {
   "cell_type": "code",
   "execution_count": 24,
   "id": "95491dd3",
   "metadata": {},
   "outputs": [],
   "source": [
    "# Import necessary libraries\n",
    "import pandas as pd\n",
    "import numpy as np\n",
    "import seaborn as sns\n",
    "import matplotlib.pyplot as plt\n",
    "import re\n",
    "\n",
    "# Set display options for better output formatting\n",
    "pd.set_option('display.max_columns', None)\n",
    "pd.set_option('display.width', None)"
   ]
  },
  {
   "cell_type": "markdown",
   "id": "dfd9f5ba",
   "metadata": {},
   "source": [
    "### Load the Dataset\n",
    "Load the raw Audible dataset to begin our cleaning process."
   ]
  },
  {
   "cell_type": "code",
   "execution_count": 25,
   "id": "dd6529c0",
   "metadata": {},
   "outputs": [
    {
     "name": "stdout",
     "output_type": "stream",
     "text": [
      "Dataset shape: (87489, 8)\n",
      "Columns: ['name', 'author', 'narrator', 'time', 'releasedate', 'language', 'stars', 'price']\n",
      "\n",
      "First 5 rows of the dataset:\n"
     ]
    },
    {
     "data": {
      "text/html": [
       "<div>\n",
       "<style scoped>\n",
       "    .dataframe tbody tr th:only-of-type {\n",
       "        vertical-align: middle;\n",
       "    }\n",
       "\n",
       "    .dataframe tbody tr th {\n",
       "        vertical-align: top;\n",
       "    }\n",
       "\n",
       "    .dataframe thead th {\n",
       "        text-align: right;\n",
       "    }\n",
       "</style>\n",
       "<table border=\"1\" class=\"dataframe\">\n",
       "  <thead>\n",
       "    <tr style=\"text-align: right;\">\n",
       "      <th></th>\n",
       "      <th>name</th>\n",
       "      <th>author</th>\n",
       "      <th>narrator</th>\n",
       "      <th>time</th>\n",
       "      <th>releasedate</th>\n",
       "      <th>language</th>\n",
       "      <th>stars</th>\n",
       "      <th>price</th>\n",
       "    </tr>\n",
       "  </thead>\n",
       "  <tbody>\n",
       "    <tr>\n",
       "      <th>0</th>\n",
       "      <td>Geronimo Stilton #11 &amp; #12</td>\n",
       "      <td>Writtenby:GeronimoStilton</td>\n",
       "      <td>Narratedby:BillLobely</td>\n",
       "      <td>2 hrs and 20 mins</td>\n",
       "      <td>04-08-08</td>\n",
       "      <td>English</td>\n",
       "      <td>5 out of 5 stars34 ratings</td>\n",
       "      <td>468.00</td>\n",
       "    </tr>\n",
       "    <tr>\n",
       "      <th>1</th>\n",
       "      <td>The Burning Maze</td>\n",
       "      <td>Writtenby:RickRiordan</td>\n",
       "      <td>Narratedby:RobbieDaymond</td>\n",
       "      <td>13 hrs and 8 mins</td>\n",
       "      <td>01-05-18</td>\n",
       "      <td>English</td>\n",
       "      <td>4.5 out of 5 stars41 ratings</td>\n",
       "      <td>820.00</td>\n",
       "    </tr>\n",
       "    <tr>\n",
       "      <th>2</th>\n",
       "      <td>The Deep End</td>\n",
       "      <td>Writtenby:JeffKinney</td>\n",
       "      <td>Narratedby:DanRussell</td>\n",
       "      <td>2 hrs and 3 mins</td>\n",
       "      <td>06-11-20</td>\n",
       "      <td>English</td>\n",
       "      <td>4.5 out of 5 stars38 ratings</td>\n",
       "      <td>410.00</td>\n",
       "    </tr>\n",
       "    <tr>\n",
       "      <th>3</th>\n",
       "      <td>Daughter of the Deep</td>\n",
       "      <td>Writtenby:RickRiordan</td>\n",
       "      <td>Narratedby:SoneelaNankani</td>\n",
       "      <td>11 hrs and 16 mins</td>\n",
       "      <td>05-10-21</td>\n",
       "      <td>English</td>\n",
       "      <td>4.5 out of 5 stars12 ratings</td>\n",
       "      <td>615.00</td>\n",
       "    </tr>\n",
       "    <tr>\n",
       "      <th>4</th>\n",
       "      <td>The Lightning Thief: Percy Jackson, Book 1</td>\n",
       "      <td>Writtenby:RickRiordan</td>\n",
       "      <td>Narratedby:JesseBernstein</td>\n",
       "      <td>10 hrs</td>\n",
       "      <td>13-01-10</td>\n",
       "      <td>English</td>\n",
       "      <td>4.5 out of 5 stars181 ratings</td>\n",
       "      <td>820.00</td>\n",
       "    </tr>\n",
       "  </tbody>\n",
       "</table>\n",
       "</div>"
      ],
      "text/plain": [
       "                                         name                     author  \\\n",
       "0                  Geronimo Stilton #11 & #12  Writtenby:GeronimoStilton   \n",
       "1                            The Burning Maze      Writtenby:RickRiordan   \n",
       "2                                The Deep End       Writtenby:JeffKinney   \n",
       "3                        Daughter of the Deep      Writtenby:RickRiordan   \n",
       "4  The Lightning Thief: Percy Jackson, Book 1      Writtenby:RickRiordan   \n",
       "\n",
       "                    narrator                time releasedate language  \\\n",
       "0      Narratedby:BillLobely   2 hrs and 20 mins    04-08-08  English   \n",
       "1   Narratedby:RobbieDaymond   13 hrs and 8 mins    01-05-18  English   \n",
       "2      Narratedby:DanRussell    2 hrs and 3 mins    06-11-20  English   \n",
       "3  Narratedby:SoneelaNankani  11 hrs and 16 mins    05-10-21  English   \n",
       "4  Narratedby:JesseBernstein              10 hrs    13-01-10  English   \n",
       "\n",
       "                           stars   price  \n",
       "0     5 out of 5 stars34 ratings  468.00  \n",
       "1   4.5 out of 5 stars41 ratings  820.00  \n",
       "2   4.5 out of 5 stars38 ratings  410.00  \n",
       "3   4.5 out of 5 stars12 ratings  615.00  \n",
       "4  4.5 out of 5 stars181 ratings  820.00  "
      ]
     },
     "execution_count": 25,
     "metadata": {},
     "output_type": "execute_result"
    }
   ],
   "source": [
    "# Load the dataset from the specified path\n",
    "data = pd.read_csv('audible_uncleaned.csv')\n",
    "\n",
    "# Display basic information about the dataset\n",
    "print(f\"Dataset shape: {data.shape}\")\n",
    "print(f\"Columns: {list(data.columns)}\")\n",
    "\n",
    "# Display the first few rows to understand the structure\n",
    "print(\"\\nFirst 5 rows of the dataset:\")\n",
    "data.head()"
   ]
  },
  {
   "cell_type": "markdown",
   "id": "43def72d",
   "metadata": {},
   "source": [
    "### 2.1 Identify Missing Values\n",
    "Before cleaning, we need to understand what data quality issues exist in our dataset."
   ]
  },
  {
   "cell_type": "code",
   "execution_count": 26,
   "id": "acae348c",
   "metadata": {},
   "outputs": [
    {
     "name": "stdout",
     "output_type": "stream",
     "text": [
      "Missing Values per Column:\n",
      "name           0\n",
      "author         0\n",
      "narrator       0\n",
      "time           0\n",
      "releasedate    0\n",
      "language       0\n",
      "stars          0\n",
      "price          0\n",
      "dtype: int64\n",
      "\n",
      "Total missing values: 0\n",
      "Percentage of missing data: 0.00%\n"
     ]
    }
   ],
   "source": [
    "# Identify missing values in the dataset\n",
    "missing_values = data.isnull().sum()\n",
    "\n",
    "# Display missing values count per column\n",
    "print(\"Missing Values per Column:\")\n",
    "print(missing_values)\n",
    "print(f\"\\nTotal missing values: {missing_values.sum()}\")\n",
    "print(f\"Percentage of missing data: {(missing_values.sum() / (data.shape[0] * data.shape[1])) * 100:.2f}%\")"
   ]
  },
  {
   "cell_type": "markdown",
   "id": "9adf10e2",
   "metadata": {},
   "source": [
    "### 2.2 Detect Duplicate Rows\n",
    "Duplicate entries can skew our analysis, so we need to identify and handle them."
   ]
  },
  {
   "cell_type": "code",
   "execution_count": 27,
   "id": "88257d00",
   "metadata": {},
   "outputs": [
    {
     "name": "stdout",
     "output_type": "stream",
     "text": [
      "Number of duplicate rows: 0\n",
      "Percentage of duplicates: 0.00%\n"
     ]
    }
   ],
   "source": [
    "# Detect duplicate rows\n",
    "duplicates = data.duplicated().sum()\n",
    "\n",
    "# Display the number of duplicate rows\n",
    "print(f\"Number of duplicate rows: {duplicates}\")\n",
    "print(f\"Percentage of duplicates: {(duplicates / len(data)) * 100:.2f}%\")\n",
    "\n",
    "if duplicates > 0:\n",
    "    print(\"\\nSample duplicate rows:\")\n",
    "    print(data[data.duplicated(keep=False)].head())"
   ]
  },
  {
   "cell_type": "markdown",
   "id": "eebd05c4",
   "metadata": {},
   "source": [
    "### 2.3 Check Data Types\n",
    "Examining data types helps us identify columns that need type conversion or formatting issues."
   ]
  },
  {
   "cell_type": "code",
   "execution_count": 28,
   "id": "62f08eff",
   "metadata": {},
   "outputs": [
    {
     "name": "stdout",
     "output_type": "stream",
     "text": [
      "Data Types per Column:\n",
      "name           object\n",
      "author         object\n",
      "narrator       object\n",
      "time           object\n",
      "releasedate    object\n",
      "language       object\n",
      "stars          object\n",
      "price          object\n",
      "dtype: object\n",
      "\n",
      "Sample data from each column:\n",
      "\n",
      "name: Geronimo Stilton #11 & #12\n",
      "\n",
      "author: Writtenby:GeronimoStilton\n",
      "\n",
      "narrator: Narratedby:BillLobely\n",
      "\n",
      "time: 2 hrs and 20 mins\n",
      "\n",
      "releasedate: 04-08-08\n",
      "\n",
      "language: English\n",
      "\n",
      "stars: 5 out of 5 stars34 ratings\n",
      "\n",
      "price: 468.00\n"
     ]
    }
   ],
   "source": [
    "# Check data types of all columns to spot any inconsistent data formats\n",
    "print(\"Data Types per Column:\")\n",
    "print(data.dtypes)\n",
    "print(\"\\nSample data from each column:\")\n",
    "for col in data.columns:\n",
    "    print(f\"\\n{col}: {data[col].dropna().iloc[0] if not data[col].dropna().empty else 'No data'}\")"
   ]
  },
  {
   "cell_type": "markdown",
   "id": "50e99211",
   "metadata": {},
   "source": [
    "### 3.1 Remove Duplicate Rows\n",
    "Remove all duplicate rows while keeping the first occurrence."
   ]
  },
  {
   "cell_type": "code",
   "execution_count": 29,
   "id": "6a8b07cc",
   "metadata": {},
   "outputs": [
    {
     "name": "stdout",
     "output_type": "stream",
     "text": [
      "Number of duplicate rows removed: 0\n",
      "Dataset shape after removing duplicates: (87489, 8)\n",
      "\n",
      "Dataset after removing duplicates:\n"
     ]
    },
    {
     "data": {
      "text/html": [
       "<div>\n",
       "<style scoped>\n",
       "    .dataframe tbody tr th:only-of-type {\n",
       "        vertical-align: middle;\n",
       "    }\n",
       "\n",
       "    .dataframe tbody tr th {\n",
       "        vertical-align: top;\n",
       "    }\n",
       "\n",
       "    .dataframe thead th {\n",
       "        text-align: right;\n",
       "    }\n",
       "</style>\n",
       "<table border=\"1\" class=\"dataframe\">\n",
       "  <thead>\n",
       "    <tr style=\"text-align: right;\">\n",
       "      <th></th>\n",
       "      <th>name</th>\n",
       "      <th>author</th>\n",
       "      <th>narrator</th>\n",
       "      <th>time</th>\n",
       "      <th>releasedate</th>\n",
       "      <th>language</th>\n",
       "      <th>stars</th>\n",
       "      <th>price</th>\n",
       "    </tr>\n",
       "  </thead>\n",
       "  <tbody>\n",
       "    <tr>\n",
       "      <th>0</th>\n",
       "      <td>Geronimo Stilton #11 &amp; #12</td>\n",
       "      <td>Writtenby:GeronimoStilton</td>\n",
       "      <td>Narratedby:BillLobely</td>\n",
       "      <td>2 hrs and 20 mins</td>\n",
       "      <td>04-08-08</td>\n",
       "      <td>English</td>\n",
       "      <td>5 out of 5 stars34 ratings</td>\n",
       "      <td>468.00</td>\n",
       "    </tr>\n",
       "    <tr>\n",
       "      <th>1</th>\n",
       "      <td>The Burning Maze</td>\n",
       "      <td>Writtenby:RickRiordan</td>\n",
       "      <td>Narratedby:RobbieDaymond</td>\n",
       "      <td>13 hrs and 8 mins</td>\n",
       "      <td>01-05-18</td>\n",
       "      <td>English</td>\n",
       "      <td>4.5 out of 5 stars41 ratings</td>\n",
       "      <td>820.00</td>\n",
       "    </tr>\n",
       "    <tr>\n",
       "      <th>2</th>\n",
       "      <td>The Deep End</td>\n",
       "      <td>Writtenby:JeffKinney</td>\n",
       "      <td>Narratedby:DanRussell</td>\n",
       "      <td>2 hrs and 3 mins</td>\n",
       "      <td>06-11-20</td>\n",
       "      <td>English</td>\n",
       "      <td>4.5 out of 5 stars38 ratings</td>\n",
       "      <td>410.00</td>\n",
       "    </tr>\n",
       "    <tr>\n",
       "      <th>3</th>\n",
       "      <td>Daughter of the Deep</td>\n",
       "      <td>Writtenby:RickRiordan</td>\n",
       "      <td>Narratedby:SoneelaNankani</td>\n",
       "      <td>11 hrs and 16 mins</td>\n",
       "      <td>05-10-21</td>\n",
       "      <td>English</td>\n",
       "      <td>4.5 out of 5 stars12 ratings</td>\n",
       "      <td>615.00</td>\n",
       "    </tr>\n",
       "    <tr>\n",
       "      <th>4</th>\n",
       "      <td>The Lightning Thief: Percy Jackson, Book 1</td>\n",
       "      <td>Writtenby:RickRiordan</td>\n",
       "      <td>Narratedby:JesseBernstein</td>\n",
       "      <td>10 hrs</td>\n",
       "      <td>13-01-10</td>\n",
       "      <td>English</td>\n",
       "      <td>4.5 out of 5 stars181 ratings</td>\n",
       "      <td>820.00</td>\n",
       "    </tr>\n",
       "  </tbody>\n",
       "</table>\n",
       "</div>"
      ],
      "text/plain": [
       "                                         name                     author  \\\n",
       "0                  Geronimo Stilton #11 & #12  Writtenby:GeronimoStilton   \n",
       "1                            The Burning Maze      Writtenby:RickRiordan   \n",
       "2                                The Deep End       Writtenby:JeffKinney   \n",
       "3                        Daughter of the Deep      Writtenby:RickRiordan   \n",
       "4  The Lightning Thief: Percy Jackson, Book 1      Writtenby:RickRiordan   \n",
       "\n",
       "                    narrator                time releasedate language  \\\n",
       "0      Narratedby:BillLobely   2 hrs and 20 mins    04-08-08  English   \n",
       "1   Narratedby:RobbieDaymond   13 hrs and 8 mins    01-05-18  English   \n",
       "2      Narratedby:DanRussell    2 hrs and 3 mins    06-11-20  English   \n",
       "3  Narratedby:SoneelaNankani  11 hrs and 16 mins    05-10-21  English   \n",
       "4  Narratedby:JesseBernstein              10 hrs    13-01-10  English   \n",
       "\n",
       "                           stars   price  \n",
       "0     5 out of 5 stars34 ratings  468.00  \n",
       "1   4.5 out of 5 stars41 ratings  820.00  \n",
       "2   4.5 out of 5 stars38 ratings  410.00  \n",
       "3   4.5 out of 5 stars12 ratings  615.00  \n",
       "4  4.5 out of 5 stars181 ratings  820.00  "
      ]
     },
     "execution_count": 29,
     "metadata": {},
     "output_type": "execute_result"
    }
   ],
   "source": [
    "# Store initial count for comparison\n",
    "initial_rows = len(data)\n",
    "\n",
    "# Remove duplicate rows\n",
    "data.drop_duplicates(inplace=True)\n",
    "\n",
    "# Calculate rows removed\n",
    "rows_removed = initial_rows - len(data)\n",
    "\n",
    "print(f\"Number of duplicate rows removed: {rows_removed}\")\n",
    "print(f\"Dataset shape after removing duplicates: {data.shape}\")\n",
    "print(\"\\nDataset after removing duplicates:\")\n",
    "data.head()"
   ]
  },
  {
   "cell_type": "markdown",
   "id": "4302bbcc",
   "metadata": {},
   "source": [
    "### 3.2 Standardize Language Column\n",
    "Capitalize the first letter of each word in the 'language' column."
   ]
  },
  {
   "cell_type": "code",
   "execution_count": 30,
   "id": "e47fb573",
   "metadata": {},
   "outputs": [
    {
     "name": "stdout",
     "output_type": "stream",
     "text": [
      "Updated 'language' column:\n",
      "language\n",
      "English             61884\n",
      "German               8295\n",
      "Spanish              3496\n",
      "Japanese             3167\n",
      "Italian              2694\n",
      "French               2386\n",
      "Russian              1804\n",
      "Danish                935\n",
      "Portuguese            526\n",
      "Swedish               515\n",
      "Hindi                 436\n",
      "Polish                224\n",
      "Finnish               197\n",
      "Dutch                 190\n",
      "Tamil                 161\n",
      "Catalan               153\n",
      "Mandarin_chinese       97\n",
      "Icelandic              52\n",
      "Romanian               50\n",
      "Hungarian              36\n",
      "Urdu                   34\n",
      "Afrikaans              28\n",
      "Czech                  23\n",
      "Turkish                20\n",
      "Greek                  18\n",
      "Arabic                 16\n",
      "Norwegian              16\n",
      "Galician               10\n",
      "Bulgarian               9\n",
      "Slovene                 4\n",
      "Korean                  4\n",
      "Hebrew                  2\n",
      "Basque                  2\n",
      "Telugu                  2\n",
      "Lithuanian              2\n",
      "Ukrainian               1\n",
      "Name: count, dtype: int64\n"
     ]
    }
   ],
   "source": [
    "# Capitalize the first letter of each word in the 'language' column\n",
    "data['language'] = data['language'].str.capitalize()\n",
    "\n",
    "# Display the updated 'language' column\n",
    "print(\"Updated 'language' column:\")\n",
    "print(data['language'].value_counts())"
   ]
  },
  {
   "cell_type": "markdown",
   "id": "72049502",
   "metadata": {},
   "source": [
    "### 3.3 Clean Author and Narrator Names\n",
    "Create a function to standardize name formatting."
   ]
  },
  {
   "cell_type": "code",
   "execution_count": 31,
   "id": "9f48d275",
   "metadata": {},
   "outputs": [
    {
     "name": "stdout",
     "output_type": "stream",
     "text": [
      "Original author format: Writtenby:GeronimoStilton\n",
      "Formatted author: Writtenby:Geronimo Stilton\n",
      "\n",
      "Updated 'author' column with formatted names:\n",
      "                       author\n",
      "0  Writtenby:Geronimo Stilton\n",
      "1      Writtenby:Rick Riordan\n",
      "2       Writtenby:Jeff Kinney\n",
      "3      Writtenby:Rick Riordan\n",
      "4      Writtenby:Rick Riordan\n"
     ]
    }
   ],
   "source": [
    "# Insert a space between the first and last name and after the comma\n",
    "def format_names(name):\n",
    "    \"\"\"\n",
    "    Clean and format names by:\n",
    "    1. Adding space after commas\n",
    "    2. Adding space between CamelCase words (FirstnameLastname -> Firstname Lastname)\n",
    "    \"\"\"\n",
    "    if pd.isna(name):\n",
    "        return name\n",
    "    \n",
    "    # Add a space after the comma\n",
    "    name = name.replace(\",\", \", \")\n",
    "    \n",
    "    # Insert space between first and last name by capitalizing where the uppercase starts\n",
    "    # Using regex to insert space before each uppercase letter that follows a lowercase letter\n",
    "    name = re.sub(r'([a-z])([A-Z])', r'\\1 \\2', name)\n",
    "    \n",
    "    return name\n",
    "\n",
    "# Apply the function to the 'author' column\n",
    "print(\"Original author format:\", data['author'].iloc[0])\n",
    "data['author'] = data['author'].apply(format_names)\n",
    "print(\"Formatted author:\", data['author'].iloc[0])\n",
    "\n",
    "print(\"\\nUpdated 'author' column with formatted names:\")\n",
    "print(data[['author']].head())"
   ]
  },
  {
   "cell_type": "code",
   "execution_count": 32,
   "id": "8c424fa9",
   "metadata": {},
   "outputs": [
    {
     "name": "stdout",
     "output_type": "stream",
     "text": [
      "Original narrator format: Narratedby:BillLobely\n",
      "Formatted narrator: Narratedby:Bill Lobely\n",
      "\n",
      "Updated 'narrator' column with formatted names:\n",
      "                     narrator\n",
      "0      Narratedby:Bill Lobely\n",
      "1   Narratedby:Robbie Daymond\n",
      "2      Narratedby:Dan Russell\n",
      "3  Narratedby:Soneela Nankani\n",
      "4  Narratedby:Jesse Bernstein\n"
     ]
    }
   ],
   "source": [
    "# Apply the same function to the 'narrator' column\n",
    "print(\"Original narrator format:\", data['narrator'].iloc[0])\n",
    "data['narrator'] = data['narrator'].apply(format_names)\n",
    "print(\"Formatted narrator:\", data['narrator'].iloc[0])\n",
    "\n",
    "print(\"\\nUpdated 'narrator' column with formatted names:\")\n",
    "print(data[['narrator']].head())"
   ]
  },
  {
   "cell_type": "markdown",
   "id": "4f563361",
   "metadata": {},
   "source": [
    "### 3.4 Remove Prefixes from Author and Narrator Columns\n",
    "Strip prefixes and clean up extra whitespace."
   ]
  },
  {
   "cell_type": "code",
   "execution_count": 33,
   "id": "59648618",
   "metadata": {},
   "outputs": [
    {
     "name": "stdout",
     "output_type": "stream",
     "text": [
      "Cleaned 'author' and 'narrator' columns:\n",
      "             author         narrator\n",
      "0  Geronimo Stilton      Bill Lobely\n",
      "1      Rick Riordan   Robbie Daymond\n",
      "2       Jeff Kinney      Dan Russell\n",
      "3      Rick Riordan  Soneela Nankani\n",
      "4      Rick Riordan  Jesse Bernstein\n"
     ]
    }
   ],
   "source": [
    "# Remove 'Writtenby:' from the 'author' column\n",
    "data['author'] = data['author'].str.replace('Writtenby:', '', regex=False)\n",
    "\n",
    "# Remove 'Narratedby:' from the 'narrator' column  \n",
    "data['narrator'] = data['narrator'].str.replace('Narratedby:', '', regex=False)\n",
    "\n",
    "# Clean up any extra spaces\n",
    "data['author'] = data['author'].str.strip()\n",
    "data['narrator'] = data['narrator'].str.strip()\n",
    "\n",
    "# Display the cleaned 'author' and 'narrator' columns\n",
    "print(\"Cleaned 'author' and 'narrator' columns:\")\n",
    "print(data[['author', 'narrator']].head())"
   ]
  },
  {
   "cell_type": "markdown",
   "id": "1ff05473",
   "metadata": {},
   "source": [
    "### 3.5 Convert Time Format to Minutes\n",
    "Convert all time values to total minutes for consistent numerical analysis."
   ]
  },
  {
   "cell_type": "code",
   "execution_count": 34,
   "id": "0900948f",
   "metadata": {},
   "outputs": [
    {
     "name": "stdout",
     "output_type": "stream",
     "text": [
      "Before conversion:\n",
      "0     2 hrs and 20 mins\n",
      "1     13 hrs and 8 mins\n",
      "2      2 hrs and 3 mins\n",
      "3    11 hrs and 16 mins\n",
      "4                10 hrs\n",
      "Name: time, dtype: object\n",
      "\n",
      "After conversion to minutes:\n",
      "0    140\n",
      "1    788\n",
      "2    123\n",
      "3    676\n",
      "4    600\n",
      "Name: time, dtype: int64\n",
      "\n",
      "Time column statistics:\n",
      "Average duration: 417.5 minutes (7.0 hours)\n",
      "Range: 1 - 8595 minutes\n"
     ]
    }
   ],
   "source": [
    "def convert_time_to_minutes(time_str):\n",
    "    \"\"\"\n",
    "    Convert time format from \"X hrs and Y mins\" to total minutes.\n",
    "    Handles various formats:\n",
    "    - \"2 hrs and 20 mins\" -> 140 minutes\n",
    "    - \"1 hr and 30 mins\" -> 90 minutes\n",
    "    - \"45 mins\" -> 45 minutes\n",
    "    \"\"\"\n",
    "    if pd.isna(time_str):\n",
    "        return 0\n",
    "    \n",
    "    # Use regex to extract hours and minutes\n",
    "    hours = 0\n",
    "    minutes = 0\n",
    "    time_parts = time_str.split(' and ')\n",
    "    \n",
    "    for part in time_parts:\n",
    "        if 'hr' in part:\n",
    "            hours_match = re.search(r'(\\d+)', part)\n",
    "            if hours_match:\n",
    "                hours = int(hours_match.group())\n",
    "        elif 'min' in part:\n",
    "            minutes_match = re.search(r'(\\d+)', part)\n",
    "            if minutes_match:\n",
    "                minutes = int(minutes_match.group())\n",
    "    \n",
    "    # Calculate total minutes\n",
    "    total_minutes = (hours * 60) + minutes\n",
    "    return total_minutes\n",
    "\n",
    "# Show before and after conversion\n",
    "print(\"Before conversion:\")\n",
    "print(data['time'].head())\n",
    "\n",
    "# Apply the function to replace 'time' column with total minutes\n",
    "data['time'] = data['time'].apply(convert_time_to_minutes)\n",
    "\n",
    "print(\"\\nAfter conversion to minutes:\")\n",
    "print(data['time'].head())\n",
    "\n",
    "# Check the data types and the updated 'time' column\n",
    "print(f\"\\nTime column statistics:\")\n",
    "print(f\"Average duration: {data['time'].mean():.1f} minutes ({data['time'].mean()/60:.1f} hours)\")\n",
    "print(f\"Range: {data['time'].min()} - {data['time'].max()} minutes\")"
   ]
  },
  {
   "cell_type": "markdown",
   "id": "42b9f115",
   "metadata": {},
   "source": [
    "### 3.6 Convert Release Date to Proper DateTime Format\n",
    "Convert the releasedate column from string to datetime format."
   ]
  },
  {
   "cell_type": "code",
   "execution_count": 35,
   "id": "b85513fd",
   "metadata": {},
   "outputs": [
    {
     "name": "stdout",
     "output_type": "stream",
     "text": [
      "Original release date format:\n",
      "0    04-08-08\n",
      "1    01-05-18\n",
      "2    06-11-20\n",
      "3    05-10-21\n",
      "4    13-01-10\n",
      "Name: releasedate, dtype: object\n"
     ]
    },
    {
     "name": "stderr",
     "output_type": "stream",
     "text": [
      "/tmp/ipykernel_2716/4181980728.py:6: UserWarning: Could not infer format, so each element will be parsed individually, falling back to `dateutil`. To ensure parsing is consistent and as-expected, please specify a format.\n",
      "  data['releasedate'] = pd.to_datetime(data['releasedate'], errors='coerce')\n"
     ]
    },
    {
     "name": "stdout",
     "output_type": "stream",
     "text": [
      "\n",
      "After datetime conversion:\n",
      "0   2008-04-08\n",
      "1   2018-01-05\n",
      "2   2020-06-11\n",
      "3   2021-05-10\n",
      "4   2010-01-13\n",
      "Name: releasedate, dtype: datetime64[ns]\n",
      "\n",
      "Data type: datetime64[ns]\n",
      "Conversion errors (NaT values): 0\n"
     ]
    }
   ],
   "source": [
    "# Show original format\n",
    "print(\"Original release date format:\")\n",
    "print(data['releasedate'].head())\n",
    "\n",
    "# Convert 'releasedate' to datetime format\n",
    "data['releasedate'] = pd.to_datetime(data['releasedate'], errors='coerce')\n",
    "\n",
    "print(\"\\nAfter datetime conversion:\")\n",
    "print(data['releasedate'].head())\n",
    "print(f\"\\nData type: {data['releasedate'].dtype}\")\n",
    "\n",
    "# Check for any conversion errors\n",
    "conversion_errors = data['releasedate'].isna().sum()\n",
    "print(f\"Conversion errors (NaT values): {conversion_errors}\")"
   ]
  },
  {
   "cell_type": "markdown",
   "id": "b7a8a0eb",
   "metadata": {},
   "source": [
    "### 4.1 Extract Star Ratings and Number of Ratings\n",
    "Use regex to extract star rating and number of ratings into separate columns."
   ]
  },
  {
   "cell_type": "code",
   "execution_count": 36,
   "id": "fa95bd6d",
   "metadata": {},
   "outputs": [
    {
     "name": "stdout",
     "output_type": "stream",
     "text": [
      "Original stars format:\n",
      "0       5 out of 5 stars34 ratings\n",
      "1     4.5 out of 5 stars41 ratings\n",
      "2     4.5 out of 5 stars38 ratings\n",
      "3     4.5 out of 5 stars12 ratings\n",
      "4    4.5 out of 5 stars181 ratings\n",
      "Name: stars_original_text, dtype: object\n",
      "\n",
      "Data Transformation Result:\n",
      "             stars_original_text  star_rating  num_ratings\n",
      "0     5 out of 5 stars34 ratings          5.0           34\n",
      "1   4.5 out of 5 stars41 ratings          4.5           41\n",
      "2   4.5 out of 5 stars38 ratings          4.5           38\n",
      "3   4.5 out of 5 stars12 ratings          4.5           12\n",
      "4  4.5 out of 5 stars181 ratings          4.5          181\n"
     ]
    }
   ],
   "source": [
    "# Step 1: Rename the original 'stars' column to preserve the source text\n",
    "data.rename(columns={'stars': 'stars_original_text'}, inplace=True, errors='ignore')\n",
    "\n",
    "# Step 2: Ensure the source text column is a string type\n",
    "data['stars_original_text'] = data['stars_original_text'].astype(str)\n",
    "\n",
    "print(\"Original stars format:\")\n",
    "print(data['stars_original_text'].head())\n",
    "\n",
    "# Step 3: Define the regular expression pattern for the format \"X out of 5 starsY ratings\"\n",
    "pattern = r'(?P<star_rating>\\d\\.?\\d*)\\s*out of 5 stars(?P<num_ratings>\\d+)\\s*ratings'\n",
    "\n",
    "# Step 4: Use .str.extract() to pull the data into new columns based on the pattern\n",
    "extracted_data = data['stars_original_text'].str.extract(pattern)\n",
    "\n",
    "# Step 5: Create the new columns and convert them to numeric types\n",
    "data['star_rating'] = pd.to_numeric(extracted_data['star_rating'], errors='coerce')\n",
    "data['num_ratings'] = pd.to_numeric(extracted_data['num_ratings'], errors='coerce')\n",
    "\n",
    "# Step 6: Replace any resulting empty (NaN) values in the new columns with 0\n",
    "data.fillna({'star_rating': 0, 'num_ratings': 0}, inplace=True)\n",
    "\n",
    "# Step 7: Convert 'num_ratings' to a whole number (integer)\n",
    "data['num_ratings'] = data['num_ratings'].astype(int)\n",
    "\n",
    "print(\"\\nData Transformation Result:\")\n",
    "print(data[['stars_original_text', 'star_rating', 'num_ratings']].head())"
   ]
  },
  {
   "cell_type": "markdown",
   "id": "3fcd4fd8",
   "metadata": {},
   "source": [
    "### 4.2 Finalize Star Rating Columns\n",
    "Round star ratings and rename columns for clarity."
   ]
  },
  {
   "cell_type": "code",
   "execution_count": 37,
   "id": "df3cec34",
   "metadata": {},
   "outputs": [
    {
     "name": "stdout",
     "output_type": "stream",
     "text": [
      "Final stars and ratings columns:\n",
      "   stars  ratings\n",
      "0    5.0       34\n",
      "1    4.5       41\n",
      "2    4.5       38\n",
      "3    4.5       12\n",
      "4    4.5      181\n",
      "\n",
      "Star ratings statistics:\n",
      "Average rating: 0.47\n",
      "Rating distribution:\n",
      "stars\n",
      "0.0    78278\n",
      "1.0       11\n",
      "1.5        8\n",
      "2.0       27\n",
      "2.5       47\n",
      "3.0      201\n",
      "3.5      413\n",
      "4.0     1473\n",
      "4.5     4018\n",
      "5.0     3013\n",
      "Name: count, dtype: int64\n"
     ]
    }
   ],
   "source": [
    "# Round the star_rating column to one decimal place\n",
    "data['star_rating'] = data['star_rating'].round(1)\n",
    "\n",
    "# Rename the final columns for clarity\n",
    "data.rename(columns={'star_rating': 'stars', 'num_ratings': 'ratings'}, inplace=True)\n",
    "\n",
    "# Display the result\n",
    "print(\"Final stars and ratings columns:\")\n",
    "print(data[['stars', 'ratings']].head())\n",
    "\n",
    "# Show statistics\n",
    "print(f\"\\nStar ratings statistics:\")\n",
    "print(f\"Average rating: {data['stars'].mean():.2f}\")\n",
    "print(f\"Rating distribution:\")\n",
    "print(data['stars'].value_counts().sort_index())"
   ]
  },
  {
   "cell_type": "markdown",
   "id": "62d43966",
   "metadata": {},
   "source": [
    "### 5.1 Clean and Standardize Price Data\n",
    "Remove non-numeric characters and convert to proper numeric format."
   ]
  },
  {
   "cell_type": "code",
   "execution_count": 38,
   "id": "a1c2a9e8",
   "metadata": {},
   "outputs": [
    {
     "name": "stdout",
     "output_type": "stream",
     "text": [
      "Original price format:\n",
      "0    468.00\n",
      "1    820.00\n",
      "2    410.00\n",
      "3    615.00\n",
      "4    820.00\n",
      "Name: price, dtype: object\n",
      "\n",
      "Cleaned price column:\n",
      "0    468.0\n",
      "1    820.0\n",
      "2    410.0\n",
      "3    615.0\n",
      "4    820.0\n",
      "Name: price, dtype: float64\n",
      "\n",
      "Price statistics:\n",
      "Average price: $559.01\n",
      "Price range: $0.00 - $7198.00\n",
      "Median price: $585.00\n"
     ]
    }
   ],
   "source": [
    "print(\"Original price format:\")\n",
    "print(data['price'].head())\n",
    "\n",
    "# Remove any non-numeric characters (e.g., commas, dollar signs)\n",
    "data['price'] = data['price'].astype(str).str.replace(r'[^\\d.]', '', regex=True)\n",
    "\n",
    "# Convert the price column to numeric\n",
    "data['price'] = pd.to_numeric(data['price'], errors='coerce')\n",
    "\n",
    "# Handle any NaN values that might result from conversion\n",
    "data['price'] = data['price'].fillna(0)\n",
    "\n",
    "# Round the 'price' column to 2 decimal places\n",
    "data['price'] = data['price'].round(2)\n",
    "\n",
    "print(\"\\nCleaned price column:\")\n",
    "print(data['price'].head())\n",
    "\n",
    "# Show price statistics\n",
    "print(f\"\\nPrice statistics:\")\n",
    "print(f\"Average price: ${data['price'].mean():.2f}\")\n",
    "print(f\"Price range: ${data['price'].min():.2f} - ${data['price'].max():.2f}\")\n",
    "print(f\"Median price: ${data['price'].median():.2f}\")"
   ]
  },
  {
   "cell_type": "markdown",
   "id": "2bc931b2",
   "metadata": {},
   "source": [
    "### 6.1 Remove Unnecessary Columns and Rename for Clarity\n",
    "Drop the original text column and rename columns for better readability.*"
   ]
  },
  {
   "cell_type": "code",
   "execution_count": 39,
   "id": "f9e68944",
   "metadata": {},
   "outputs": [
    {
     "name": "stdout",
     "output_type": "stream",
     "text": [
      "Final dataset structure:\n",
      "Shape: (87489, 9)\n",
      "Columns: ['name', 'author', 'narrator', 'time_minutes', 'release_date', 'language', 'price', 'stars', 'ratings']\n",
      "\n",
      "Final cleaned dataset:\n",
      "Checking for duplicates created during cleaning...\n",
      "Found 6 duplicates created during cleaning\n",
      "Removed duplicates. New shape: (87483, 9)\n"
     ]
    }
   ],
   "source": [
    "# Drop the 'stars_original_text' column as it's no longer needed\n",
    "data = data.drop(columns=['stars_original_text'])\n",
    "\n",
    "# Rename columns for better clarity and consistency\n",
    "data.rename(columns={\n",
    "    'time': 'time_minutes', \n",
    "    'releasedate': 'release_date'\n",
    "}, inplace=True)\n",
    "\n",
    "print(\"Final dataset structure:\")\n",
    "print(f\"Shape: {data.shape}\")\n",
    "print(f\"Columns: {list(data.columns)}\")\n",
    "\n",
    "# Display the final cleaned dataset\n",
    "print(\"\\nFinal cleaned dataset:\")\n",
    "data.head()\n",
    "\n",
    "print(\"Checking for duplicates created during cleaning...\")\n",
    "duplicates_after_cleaning = data.duplicated().sum()\n",
    "if duplicates_after_cleaning > 0:\n",
    "    print(f\"Found {duplicates_after_cleaning} duplicates created during cleaning\")\n",
    "    data = data.drop_duplicates()\n",
    "    print(f\"Removed duplicates. New shape: {data.shape}\")"
   ]
  },
  {
   "cell_type": "markdown",
   "id": "7bc005a8",
   "metadata": {},
   "source": [
    "### 7.1 Final Data Quality Check\n",
    "Perform comprehensive quality checks on the cleaned dataset."
   ]
  },
  {
   "cell_type": "code",
   "execution_count": 40,
   "id": "c4b03c03",
   "metadata": {},
   "outputs": [
    {
     "name": "stdout",
     "output_type": "stream",
     "text": [
      "=== FINAL DATA QUALITY REPORT ===\n",
      "Dataset shape: (87483, 9)\n",
      "Memory usage: 27.22 MB\n",
      "\n",
      "1. Missing Values:\n",
      "No missing values!\n",
      "\n",
      "2. Duplicate Rows:\n",
      "No duplicates!\n",
      "\n",
      "3. Data Types:\n",
      "name                    object\n",
      "author                  object\n",
      "narrator                object\n",
      "time_minutes             int64\n",
      "release_date    datetime64[ns]\n",
      "language                object\n",
      "price                  float64\n",
      "stars                  float64\n",
      "ratings                  int64\n",
      "dtype: object\n",
      "\n",
      "4. Data Summary Statistics:\n",
      "                  name     author   narrator  time_minutes  \\\n",
      "count            87483      87483      87483  87483.000000   \n",
      "unique           82767      48374      29717           NaN   \n",
      "top     The Art of War  矢島雅弘, 石橋遊  anonymous           NaN   \n",
      "freq                20        874       1034           NaN   \n",
      "mean               NaN        NaN        NaN    417.494062   \n",
      "min                NaN        NaN        NaN      1.000000   \n",
      "25%                NaN        NaN        NaN    142.000000   \n",
      "50%                NaN        NaN        NaN    386.000000   \n",
      "75%                NaN        NaN        NaN    584.000000   \n",
      "max                NaN        NaN        NaN   8595.000000   \n",
      "std                NaN        NaN        NaN    364.559498   \n",
      "\n",
      "                         release_date language         price         stars  \\\n",
      "count                           87483    87483  87483.000000  87483.000000   \n",
      "unique                            NaN       36           NaN           NaN   \n",
      "top                               NaN  English           NaN           NaN   \n",
      "freq                              NaN    61878           NaN           NaN   \n",
      "mean    2018-06-22 01:00:17.653715712      NaN    558.988374      0.471875   \n",
      "min               1998-12-27 00:00:00      NaN      0.000000      0.000000   \n",
      "25%               2016-08-30 00:00:00      NaN    268.000000      0.000000   \n",
      "50%               2020-01-30 00:00:00      NaN    585.000000      0.000000   \n",
      "75%               2021-08-04 00:00:00      NaN    755.000000      0.000000   \n",
      "max               2025-11-14 00:00:00      NaN   7198.000000      5.000000   \n",
      "std                               NaN      NaN    336.063685      1.386101   \n",
      "\n",
      "             ratings  \n",
      "count   87483.000000  \n",
      "unique           NaN  \n",
      "top              NaN  \n",
      "freq             NaN  \n",
      "mean        2.399209  \n",
      "min         0.000000  \n",
      "25%         0.000000  \n",
      "50%         0.000000  \n",
      "75%         0.000000  \n",
      "max       985.000000  \n",
      "std        23.782880  \n"
     ]
    }
   ],
   "source": [
    "print(\"=== FINAL DATA QUALITY REPORT ===\")\n",
    "print(f\"Dataset shape: {data.shape}\")\n",
    "print(f\"Memory usage: {data.memory_usage(deep=True).sum() / 1024**2:.2f} MB\")\n",
    "\n",
    "print(\"\\n1. Missing Values:\")\n",
    "missing_final = data.isnull().sum()\n",
    "print(missing_final[missing_final > 0] if missing_final.sum() > 0 else \"No missing values!\")\n",
    "\n",
    "print(\"\\n2. Duplicate Rows:\")\n",
    "duplicates_final = data.duplicated().sum()\n",
    "print(f\"No duplicates!\" if duplicates_final == 0 else f\"{duplicates_final} duplicates found\")\n",
    "\n",
    "print(\"\\n3. Data Types:\")\n",
    "print(data.dtypes)\n",
    "\n",
    "print(\"\\n4. Data Summary Statistics:\")\n",
    "print(data.describe(include='all'))"
   ]
  },
  {
   "cell_type": "markdown",
   "id": "21ff52f1",
   "metadata": {},
   "source": [
    "### 7.2 Save Cleaned Dataset\n",
    "Export the cleaned dataset to a new CSV file."
   ]
  },
  {
   "cell_type": "code",
   "execution_count": 41,
   "id": "efc0510e",
   "metadata": {},
   "outputs": [
    {
     "name": "stdout",
     "output_type": "stream",
     "text": [
      "Cleaned dataset saved as 'audible_cleaned_final.csv'\n",
      "Final dataset: 87,483 rows × 9 columns\n",
      "\n",
      "=== CLEANING OPERATIONS SUMMARY ===\n",
      "                           Operation                         Impact\n",
      "              Removed duplicate rows                 0 rows removed\n",
      "Standardized language capitalization      Consistent capitalization\n",
      "     Formatted author/narrator names            Proper name spacing\n",
      "               Removed text prefixes              Clean text fields\n",
      "           Converted time to minutes  Numerical time analysis ready\n",
      "         Converted dates to datetime            Date analysis ready\n",
      "              Extracted star ratings        Separate rating metrics\n",
      "                Cleaned price format Numerical price analysis ready\n",
      "         Renamed columns for clarity           Improved readability\n"
     ]
    }
   ],
   "source": [
    "# Save the cleaned dataset\n",
    "output_filename = 'audible_cleaned_final.csv'\n",
    "data.to_csv(output_filename, index=False)\n",
    "\n",
    "print(f\"Cleaned dataset saved as '{output_filename}'\")\n",
    "print(f\"Final dataset: {data.shape[0]:,} rows × {data.shape[1]} columns\")\n",
    "\n",
    "# Create a summary of cleaning operations performed\n",
    "cleaning_summary = {\n",
    "    'Operation': [\n",
    "        'Removed duplicate rows',\n",
    "        'Standardized language capitalization', \n",
    "        'Formatted author/narrator names',\n",
    "        'Removed text prefixes',\n",
    "        'Converted time to minutes',\n",
    "        'Converted dates to datetime',\n",
    "        'Extracted star ratings',\n",
    "        'Cleaned price format',\n",
    "        'Renamed columns for clarity'\n",
    "    ],\n",
    "    'Impact': [\n",
    "        f'{rows_removed} rows removed',\n",
    "        'Consistent capitalization',\n",
    "        'Proper name spacing',\n",
    "        'Clean text fields',\n",
    "        'Numerical time analysis ready',\n",
    "        'Date analysis ready', \n",
    "        'Separate rating metrics',\n",
    "        'Numerical price analysis ready',\n",
    "        'Improved readability'\n",
    "    ]\n",
    "}\n",
    "\n",
    "cleaning_df = pd.DataFrame(cleaning_summary)\n",
    "print(\"\\n=== CLEANING OPERATIONS SUMMARY ===\")\n",
    "print(cleaning_df.to_string(index=False))"
   ]
  },
  {
   "cell_type": "markdown",
   "id": "f48bd12f",
   "metadata": {},
   "source": [
    "### 8.1 Language Distribution Analysis\n",
    "Create a pie chart showing the distribution of audiobooks by language, grouping smaller languages into \"Other Languages\" for clarity."
   ]
  },
  {
   "cell_type": "code",
   "execution_count": 42,
   "id": "7e0e7a61",
   "metadata": {},
   "outputs": [
    {
     "name": "stdout",
     "output_type": "stream",
     "text": [
      "Language distribution (raw counts):\n",
      "language\n",
      "English             61878\n",
      "German               8295\n",
      "Spanish              3496\n",
      "Japanese             3167\n",
      "Italian              2694\n",
      "French               2386\n",
      "Russian              1804\n",
      "Danish                935\n",
      "Portuguese            526\n",
      "Swedish               515\n",
      "Hindi                 436\n",
      "Polish                224\n",
      "Finnish               197\n",
      "Dutch                 190\n",
      "Tamil                 161\n",
      "Catalan               153\n",
      "Mandarin_chinese       97\n",
      "Icelandic              52\n",
      "Romanian               50\n",
      "Hungarian              36\n",
      "Urdu                   34\n",
      "Afrikaans              28\n",
      "Czech                  23\n",
      "Turkish                20\n",
      "Greek                  18\n",
      "Arabic                 16\n",
      "Norwegian              16\n",
      "Galician               10\n",
      "Bulgarian               9\n",
      "Slovene                 4\n",
      "Korean                  4\n",
      "Hebrew                  2\n",
      "Basque                  2\n",
      "Telugu                  2\n",
      "Lithuanian              2\n",
      "Ukrainian               1\n",
      "Name: count, dtype: int64\n",
      "\n",
      "Languages representing ≥1% of data: 8\n",
      "Languages grouped as 'Other': 28\n"
     ]
    },
    {
     "data": {
      "image/png": "[encoded data removed]",
      "text/plain": [
       "<Figure size 800x800 with 1 Axes>"
      ]
     },
     "metadata": {},
     "output_type": "display_data"
    },
    {
     "name": "stdout",
     "output_type": "stream",
     "text": [
      "\n",
      "Insight: The dataset contains audiobooks in 36 different languages\n",
      "Market Focus: English dominates with 70.7% of all audiobooks\n"
     ]
    }
   ],
   "source": [
    "import matplotlib.pyplot as plt\n",
    "import pandas as pd\n",
    "\n",
    "# Count number of audiobooks per language\n",
    "language_counts = data['language'].value_counts()\n",
    "\n",
    "# Compute total count for percentage calculation\n",
    "total = language_counts.sum()\n",
    "\n",
    "print(\"Language distribution (raw counts):\")\n",
    "print(language_counts)\n",
    "\n",
    "# Separate languages with ≥1% and group others\n",
    "threshold = 0.01  # 1%\n",
    "main_languages = language_counts[language_counts / total >= threshold]\n",
    "other_languages = language_counts[language_counts / total < threshold]\n",
    "\n",
    "print(f\"\\nLanguages representing ≥1% of data: {len(main_languages)}\")\n",
    "print(f\"Languages grouped as 'Other': {len(other_languages)}\")\n",
    "\n",
    "# Add \"Other Languages\" as a merged entry\n",
    "language_counts_cleaned = main_languages.copy()\n",
    "if len(other_languages) > 0:\n",
    "    language_counts_cleaned['Other Languages'] = other_languages.sum()\n",
    "\n",
    "# Plot updated pie chart\n",
    "plt.figure(figsize=(8, 8))\n",
    "plt.pie(language_counts_cleaned, \n",
    "        labels=language_counts_cleaned.index, \n",
    "        autopct='%1.1f%%', \n",
    "        startangle=140,\n",
    "        colors=plt.cm.Set3.colors)\n",
    "plt.title('Distribution of Audiobooks by Language', fontsize=16, fontweight='bold')\n",
    "plt.axis('equal')  # Ensures the pie is circular\n",
    "plt.tight_layout()\n",
    "plt.show()\n",
    "\n",
    "print(f\"\\nInsight: The dataset contains audiobooks in {len(language_counts)} different languages\")\n",
    "print(f\"Market Focus: {language_counts.index[0]} dominates with {(language_counts.iloc[0]/total)*100:.1f}% of all audiobooks\")"
   ]
  },
  {
   "cell_type": "markdown",
   "id": "e0486556",
   "metadata": {},
   "source": [
    "### 8.2 Top Authors by Average Rating Analysis\n",
    "Analyze and visualize the top 10 authors based on their average ratings."
   ]
  },
  {
   "cell_type": "code",
   "execution_count": 43,
   "id": "42235b53",
   "metadata": {},
   "outputs": [
    {
     "name": "stdout",
     "output_type": "stream",
     "text": [
      "Top 10 Authors by Average Number of Ratings (Popularity):\n",
      "                                          author  ratings\n",
      "0                           Chris Voss, Tahl Raz    882.0\n",
      "1                    Eric Jorgenson, Tim Ferriss    857.0\n",
      "2             Paulo Coelho, Anu Singh-translator    841.0\n",
      "3  Stephen Fry-introductions, Arthur Conan Doyle    838.0\n",
      "4                                Daniel Kahneman    683.0\n",
      "5                        Will Smith, Mark Manson    591.0\n",
      "6                                   Chris Bailey    574.4\n",
      "7                                 Paul Kalanithi    551.0\n",
      "8                                   Mark Douglas    540.0\n",
      "9         Girish Kuber, Vikrant Pande-translator    538.0\n"
     ]
    },
    {
     "data": {
      "image/png": "[encoded data removed]",
      "text/plain": [
       "<Figure size 1200x800 with 1 Axes>"
      ]
     },
     "metadata": {},
     "output_type": "display_data"
    },
    {
     "name": "stdout",
     "output_type": "stream",
     "text": [
      "\n",
      "Popularity Analysis Summary:\n",
      "Total unique authors in dataset: 48374\n",
      "Average popularity among top 10: 689.5 ratings per book\n",
      "Most popular author: Chris Voss, Tahl Raz (882.0 avg ratings)\n"
     ]
    }
   ],
   "source": [
    "import matplotlib.pyplot as plt\n",
    "import seaborn as sns\n",
    "import pandas as pd\n",
    "\n",
    "# Compute and sort average number of ratings per author\n",
    "author_ratings = data.groupby('author')['ratings'].mean().sort_values(ascending=False).head(10).round(2)\n",
    "author_df = author_ratings.reset_index()  # Convert to DataFrame for plotting\n",
    "\n",
    "print(\"Top 10 Authors by Average Number of Ratings (Popularity):\")\n",
    "print(author_df)\n",
    "\n",
    "# Plot\n",
    "plt.figure(figsize=(12, 8))\n",
    "sns.barplot(\n",
    "    data=author_df,\n",
    "    x='ratings',              \n",
    "    y='author',               \n",
    "    hue='author',             # Assign hue to match palette with y-values\n",
    "    palette='viridis',        \n",
    "    legend=False              # Hide legend since author names are already on y-axis\n",
    ")\n",
    "\n",
    "# Add Add text labels to bars\n",
    "for index, value in enumerate(author_df['ratings']):\n",
    "    plt.text(value + 0.01, index, str(value), va='center')\n",
    "\n",
    "# Customize plot appearance\n",
    "plt.title('Top 10 Authors by Average Number of Ratings (Popularity)', fontsize=16)\n",
    "plt.xlabel('Average Number of Ratings per Book', fontsize=12)\n",
    "plt.ylabel('Author', fontsize=12)\n",
    "plt.tight_layout()  # Adjust layout to prevent label cutoff\n",
    "plt.show()\n",
    "\n",
    "# Display summary insights\n",
    "total_authors = data['author'].nunique()\n",
    "avg_popularity = author_df['ratings'].mean()\n",
    "print(f\"\\nPopularity Analysis Summary:\")\n",
    "print(f\"Total unique authors in dataset: {total_authors}\")\n",
    "print(f\"Average popularity among top 10: {avg_popularity:.1f} ratings per book\")\n",
    "print(f\"Most popular author: {author_df.iloc[0]['author']} ({author_df.iloc[0]['ratings']} avg ratings)\")"
   ]
  },
  {
   "cell_type": "markdown",
   "id": "c274e461",
   "metadata": {},
   "source": [
    "### 8.3 Price Trend Analysis Over Time\n",
    "Analyze and visualize the average price trends by release year."
   ]
  },
  {
   "cell_type": "code",
   "execution_count": 44,
   "id": "2668aaf8",
   "metadata": {},
   "outputs": [
    {
     "name": "stdout",
     "output_type": "stream",
     "text": [
      "Cleaning price data for trend analysis...\n",
      "Current price data type: float64\n",
      "Price range after cleaning: $0.00 - $7198.00\n",
      "Year range: 1998 - 2025\n",
      "\n",
      "Average Price by Year:\n",
      "    release_year   price\n",
      "18          2016  599.52\n",
      "19          2017  602.79\n",
      "20          2018  532.96\n",
      "21          2019  596.73\n",
      "22          2020  568.86\n",
      "23          2021  554.43\n",
      "24          2022  453.60\n",
      "25          2023  906.50\n",
      "26          2024  976.00\n",
      "27          2025  976.00\n"
     ]
    },
    {
     "data": {
      "image/png": "[encoded data removed]",
      "text/plain": [
       "<Figure size 1200x600 with 1 Axes>"
      ]
     },
     "metadata": {},
     "output_type": "display_data"
    },
    {
     "name": "stdout",
     "output_type": "stream",
     "text": [
      "\n",
      "Price Trend Insights:\n",
      "Price change from 1998.0 to 2025.0: $134.33\n"
     ]
    },
    {
     "ename": "NameError",
     "evalue": "name 'recent_avg' is not defined",
     "output_type": "error",
     "traceback": [
      "\u001b[31m---------------------------------------------------------------------------\u001b[39m",
      "\u001b[31mNameError\u001b[39m                                 Traceback (most recent call last)",
      "\u001b[36mCell\u001b[39m\u001b[36m \u001b[39m\u001b[32mIn[44]\u001b[39m\u001b[32m, line 53\u001b[39m\n\u001b[32m     51\u001b[39m \u001b[38;5;28mprint\u001b[39m(\u001b[33mf\u001b[39m\u001b[33m\"\u001b[39m\u001b[38;5;130;01m\\n\u001b[39;00m\u001b[33mPrice Trend Insights:\u001b[39m\u001b[33m\"\u001b[39m)\n\u001b[32m     52\u001b[39m \u001b[38;5;28mprint\u001b[39m(\u001b[33mf\u001b[39m\u001b[33m\"\u001b[39m\u001b[33mPrice change from \u001b[39m\u001b[38;5;132;01m{\u001b[39;00mprice_trend.iloc[\u001b[32m0\u001b[39m][\u001b[33m'\u001b[39m\u001b[33mrelease_year\u001b[39m\u001b[33m'\u001b[39m]\u001b[38;5;132;01m}\u001b[39;00m\u001b[33m to \u001b[39m\u001b[38;5;132;01m{\u001b[39;00mprice_trend.iloc[-\u001b[32m1\u001b[39m][\u001b[33m'\u001b[39m\u001b[33mrelease_year\u001b[39m\u001b[33m'\u001b[39m]\u001b[38;5;132;01m}\u001b[39;00m\u001b[33m: $\u001b[39m\u001b[38;5;132;01m{\u001b[39;00mprice_change\u001b[38;5;132;01m:\u001b[39;00m\u001b[33m.2f\u001b[39m\u001b[38;5;132;01m}\u001b[39;00m\u001b[33m\"\u001b[39m)\n\u001b[32m---> \u001b[39m\u001b[32m53\u001b[39m \u001b[38;5;28mprint\u001b[39m(\u001b[33mf\u001b[39m\u001b[33m\"\u001b[39m\u001b[33mRecent 5-year average: $\u001b[39m\u001b[38;5;132;01m{\u001b[39;00m\u001b[43mrecent_avg\u001b[49m\u001b[38;5;132;01m:\u001b[39;00m\u001b[33m.2f\u001b[39m\u001b[38;5;132;01m}\u001b[39;00m\u001b[33m\"\u001b[39m)\n\u001b[32m     54\u001b[39m \u001b[38;5;28mprint\u001b[39m(\u001b[33mf\u001b[39m\u001b[33m\"\u001b[39m\u001b[33mOverall average: $\u001b[39m\u001b[38;5;132;01m{\u001b[39;00moverall_avg\u001b[38;5;132;01m:\u001b[39;00m\u001b[33m.2f\u001b[39m\u001b[38;5;132;01m}\u001b[39;00m\u001b[33m\"\u001b[39m)\n",
      "\u001b[31mNameError\u001b[39m: name 'recent_avg' is not defined"
     ]
    }
   ],
   "source": [
    "# Ensure price is properly cleaned and numeric\n",
    "print(\"Cleaning price data for trend analysis...\")\n",
    "print(f\"Current price data type: {data['price'].dtype}\")\n",
    "\n",
    "# Additional price cleaning if needed\n",
    "data['price'] = data['price'].astype(str)\n",
    "\n",
    "# Remove currency symbols and commas using a raw string\n",
    "data['price'] = data['price'].str.replace(r'[\\₱$,]', '', regex=True)\n",
    "\n",
    "# Convert to numeric\n",
    "data['price'] = pd.to_numeric(data['price'], errors='coerce')\n",
    "\n",
    "# Handle any NaN values\n",
    "price_na_count = data['price'].isna().sum()\n",
    "if price_na_count > 0:\n",
    "    print(f\"Warning: {price_na_count} price values could not be converted to numeric\")\n",
    "    data['price'] = data['price'].fillna(data['price'].median())\n",
    "\n",
    "print(f\"Price range after cleaning: ${data['price'].min():.2f} - ${data['price'].max():.2f}\")\n",
    "\n",
    "# Extract year from release date\n",
    "data['release_year'] = data['release_date'].dt.year\n",
    "\n",
    "# Remove any invalid years\n",
    "data = data.dropna(subset=['release_year'])\n",
    "data['release_year'] = data['release_year'].astype(int)\n",
    "\n",
    "print(f\"Year range: {data['release_year'].min()} - {data['release_year'].max()}\")\n",
    "\n",
    "# Group by year and calculate average price\n",
    "price_trend = data.groupby('release_year')['price'].mean().reset_index()\n",
    "price_trend['price'] = price_trend['price'].round(2)\n",
    "\n",
    "print(\"\\nAverage Price by Year:\")\n",
    "print(price_trend.tail(10))  # Show last 10 years\n",
    "\n",
    "# Plot line graph\n",
    "plt.figure(figsize=(12, 6))\n",
    "sns.lineplot(data=price_trend, x='release_year', y='price', marker='o', linewidth=2, markersize=6)\n",
    "plt.title('Average Audiobook Price Over Time', fontsize=16, fontweight='bold')\n",
    "plt.xlabel('Release Year', fontsize=12)\n",
    "plt.ylabel('Average Price ($)', fontsize=12)\n",
    "plt.grid(True, alpha=0.3)\n",
    "\n",
    "plt.tight_layout()\n",
    "plt.show()\n",
    "\n",
    "# Price trend insights\n",
    "price_change = price_trend.iloc[-1]['price'] - price_trend.iloc[0]['price']\n",
    "print(f\"\\nPrice Trend Insights:\")\n",
    "print(f\"Price change from {price_trend.iloc[0]['release_year']} to {price_trend.iloc[-1]['release_year']}: ${price_change:.2f}\")\n",
    "print(f\"Recent 5-year average: ${recent_avg:.2f}\")\n",
    "print(f\"Overall average: ${overall_avg:.2f}\")"
   ]
  },
  {
   "cell_type": "markdown",
   "id": "bb90961b",
   "metadata": {},
   "source": [
    "### 8.4 Audiobook Release Trends Over Time\n",
    "Analyze the number of audiobook releases per year to identify growth trends."
   ]
  },
  {
   "cell_type": "code",
   "execution_count": null,
   "id": "bcc93df7",
   "metadata": {},
   "outputs": [],
   "source": [
    "import pandas as pd\n",
    "import matplotlib.pyplot as plt\n",
    "import seaborn as sns\n",
    "\n",
    "# Ensure we have clean column names (if not already done)\n",
    "print(\"Current columns:\", data.columns.tolist())\n",
    "\n",
    "# Verify release_date column exists and is properly formatted\n",
    "if 'release_date' in data.columns:\n",
    "    print(f\"Release date column type: {data['release_date'].dtype}\")\n",
    "    print(f\"Sample release dates: {data['release_date'].dropna().head().tolist()}\")\n",
    "else:\n",
    "    print(\"Warning: release_date column not found\")\n",
    "\n",
    "# Convert release_date to datetime if not already done\n",
    "data['release_date'] = pd.to_datetime(data['release_date'], errors='coerce')\n",
    "\n",
    "# Extract year from release_date (if not already done)\n",
    "data['release_year'] = data['release_date'].dt.year\n",
    "\n",
    "# Remove rows with invalid dates\n",
    "initial_count = len(data)\n",
    "data = data.dropna(subset=['release_year'])\n",
    "final_count = len(data)\n",
    "print(f\"Removed {initial_count - final_count} rows with invalid dates\")\n",
    "\n",
    "# Group by release_year and count entries\n",
    "release_trend = data.groupby('release_year').size().reset_index(name='release_count')\n",
    "\n",
    "print(\"\\nAudiobook Releases by Year:\")\n",
    "print(release_trend.tail(10))  # Show last 10 years\n",
    "\n",
    "# Calculate growth metrics\n",
    "total_releases = release_trend['release_count'].sum()\n",
    "years_span = release_trend['release_year'].max() - release_trend['release_year'].min()\n",
    "avg_per_year = total_releases / len(release_trend)\n",
    "\n",
    "print(f\"\\nRelease Statistics:\")\n",
    "print(f\"Total releases tracked: {total_releases}\")\n",
    "print(f\"Years covered: {years_span} years ({release_trend['release_year'].min()}-{release_trend['release_year'].max()})\")\n",
    "print(f\"Average releases per year: {avg_per_year:.1f}\")\n",
    "\n",
    "# Plotting the trend\n",
    "plt.figure(figsize=(12, 6))\n",
    "sns.lineplot(data=release_trend, x='release_year', y='release_count', \n",
    "             marker='o', color='royalblue', linewidth=2, markersize=6)\n",
    "\n",
    "plt.title('Trends of Audiobook Releases Over the Years', fontsize=16, fontweight='bold')\n",
    "plt.xlabel('Release Year', fontsize=12)\n",
    "plt.ylabel('Number of Audiobook Releases', fontsize=12)\n",
    "plt.grid(True, alpha=0.3)\n",
    "plt.legend()\n",
    "\n",
    "# Highlight peak years\n",
    "peak_year = release_trend.loc[release_trend['release_count'].idxmax()]\n",
    "plt.annotate(f'Peak: {peak_year[\"release_count\"]} releases\\nin {int(peak_year[\"release_year\"])}',\n",
    "             xy=(peak_year['release_year'], peak_year['release_count']),\n",
    "             xytext=(peak_year['release_year']-2, peak_year['release_count']+5),\n",
    "             arrowprops=dict(arrowstyle='->', color='red', alpha=0.7),\n",
    "             fontsize=10, ha='center')\n",
    "\n",
    "plt.tight_layout()\n",
    "plt.show()\n",
    "\n",
    "# Release trend insights\n",
    "recent_5_years = release_trend[release_trend['release_year'] >= release_trend['release_year'].max() - 4]\n",
    "recent_avg = recent_5_years['release_count'].mean()\n",
    "early_5_years = release_trend[release_trend['release_year'] <= release_trend['release_year'].min() + 4]\n",
    "early_avg = early_5_years['release_count'].mean()\n",
    "\n",
    "print(f\"\\nGrowth Analysis:\")\n",
    "print(f\"Peak year: {int(peak_year['release_year'])} with {peak_year['release_count']} releases\")\n",
    "print(f\"Recent 5-year average: {recent_avg:.1f} releases/year\")\n",
    "print(f\"Early 5-year average: {early_avg:.1f} releases/year\")\n",
    "if recent_avg > early_avg:\n",
    "    growth_rate = ((recent_avg - early_avg) / early_avg) * 100\n",
    "    print(f\"Market growth: {growth_rate:.1f}% increase in recent years\")"
   ]
  },
  {
   "cell_type": "code",
   "execution_count": null,
   "id": "6c77bc60",
   "metadata": {},
   "outputs": [],
   "source": [
    "### Save the Cleaned Dataset as a CSV File"
   ]
  },
  {
   "cell_type": "code",
   "execution_count": null,
   "id": "be0d5298",
   "metadata": {},
   "outputs": [],
   "source": [
    "# Save the cleaned dataset to a CSV file\n",
    "data.to_csv('ANLYTC1_FinalProject_AudibleCleaned.csv', index=False)"
   ]
  }
 ],
 "metadata": {
  "kernelspec": {
   "display_name": "Python 3 (ipykernel)",
   "language": "python",
   "name": "python3"
  },
  "language_info": {
   "codemirror_mode": {
    "name": "ipython",
    "version": 3
   },
   "file_extension": ".py",
   "mimetype": "text/x-python",
   "name": "python",
   "nbconvert_exporter": "python",
   "pygments_lexer": "ipython3",
   "version": "3.12.1"
  }
 },
 "nbformat": 4,
 "nbformat_minor": 5
}
